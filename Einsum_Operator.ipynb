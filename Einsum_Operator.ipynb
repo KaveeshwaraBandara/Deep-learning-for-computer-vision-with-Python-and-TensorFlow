{
  "nbformat": 4,
  "nbformat_minor": 0,
  "metadata": {
    "colab": {
      "provenance": [],
      "authorship_tag": "ABX9TyOZ8hWQpi/S03HIOhuSGEX+",
      "include_colab_link": true
    },
    "kernelspec": {
      "name": "python3",
      "display_name": "Python 3"
    },
    "language_info": {
      "name": "python"
    }
  },
  "cells": [
    {
      "cell_type": "markdown",
      "metadata": {
        "id": "view-in-github",
        "colab_type": "text"
      },
      "source": [
        "<a href=\"https://colab.research.google.com/github/KaveeshwaraBandara/Deep-learning-for-computer-vision-with-Python-and-TensorFlow/blob/main/Einsum_Operator.ipynb\" target=\"_parent\"><img src=\"https://colab.research.google.com/assets/colab-badge.svg\" alt=\"Open In Colab\"/></a>"
      ]
    },
    {
      "cell_type": "code",
      "execution_count": 2,
      "metadata": {
        "id": "hJYDWUAEh6Fn"
      },
      "outputs": [],
      "source": [
        "import numpy as np"
      ]
    },
    {
      "cell_type": "code",
      "source": [
        "A = np.array([[2,6,5,2],\n",
        "             [2,-2,2,3],\n",
        "             [4,5,4,0]])\n",
        "\n",
        "B = np.array([[2,9,0,3,0],\n",
        "             [3,6,8,-2,2],\n",
        "             [1,3,5,0,1],\n",
        "             [3,0,2,0,5]])\n",
        "\n",
        "print(A.shape)\n",
        "print(B.shape)\n",
        "\n",
        "print(\"\\nMatmul C : \\n\")\n",
        "print(np.matmul(A,B),\"\\n\")\n",
        "\n",
        "print(\"\\nEinsum C : \\n\")\n",
        "print(np.einsum(\"ij,jk->ik\", A,B))"
      ],
      "metadata": {
        "colab": {
          "base_uri": "https://localhost:8080/"
        },
        "id": "2-9RJCB8iDG1",
        "outputId": "80130ca9-8bbb-411f-bad3-ba33c82ed9f8"
      },
      "execution_count": 7,
      "outputs": [
        {
          "output_type": "stream",
          "name": "stdout",
          "text": [
            "(3, 4)\n",
            "(4, 5)\n",
            "\n",
            "Matmul C : \n",
            "\n",
            "[[33 69 77 -6 27]\n",
            " [ 9 12  0 10 13]\n",
            " [27 78 60  2 14]] \n",
            "\n",
            "\n",
            "Einsum C : \n",
            "\n",
            "[[33 69 77 -6 27]\n",
            " [ 9 12  0 10 13]\n",
            " [27 78 60  2 14]]\n"
          ]
        }
      ]
    },
    {
      "cell_type": "code",
      "source": [
        "C = np.array([[1,2,3],[4,5,6],[7,8,9],[10,11,12]])\n",
        "D = np.array([[1,2,3],[4,5,6],[7,8,9],[10,11,12]])\n",
        "\n",
        "print(C.shape, D.shape)\n",
        "\n",
        "print(\"\\nHardomond C : \\n\")\n",
        "print(C*D, \"\\n\")\n",
        "\n",
        "print(\"\\nEinsum C : \\n\")\n",
        "print(np.einsum('ij,ij->ij', C,D))"
      ],
      "metadata": {
        "colab": {
          "base_uri": "https://localhost:8080/"
        },
        "id": "kfWhqardj6mi",
        "outputId": "fa081e9e-c7db-4133-c97c-8df95927541c"
      },
      "execution_count": 12,
      "outputs": [
        {
          "output_type": "stream",
          "name": "stdout",
          "text": [
            "(4, 3) (4, 3)\n",
            "\n",
            "Hardomond C : \n",
            "\n",
            "[[  1   4   9]\n",
            " [ 16  25  36]\n",
            " [ 49  64  81]\n",
            " [100 121 144]] \n",
            "\n",
            "\n",
            "Einsum C : \n",
            "\n",
            "[[  1   4   9]\n",
            " [ 16  25  36]\n",
            " [ 49  64  81]\n",
            " [100 121 144]]\n"
          ]
        }
      ]
    },
    {
      "cell_type": "code",
      "source": [
        "print(\"\\nTranspose of D : \\n\")\n",
        "print(D.T)\n",
        "\n",
        "print(\"\\nTranspose of D using Einsum : \\n\")\n",
        "print(np.einsum(\"ij->ji\",D))"
      ],
      "metadata": {
        "colab": {
          "base_uri": "https://localhost:8080/"
        },
        "id": "8GaX7r3Rn519",
        "outputId": "9281f629-e545-4346-d293-6742a01dd2b7"
      },
      "execution_count": 18,
      "outputs": [
        {
          "output_type": "stream",
          "name": "stdout",
          "text": [
            "\n",
            "Transpose of D : \n",
            "\n",
            "[[ 1  4  7 10]\n",
            " [ 2  5  8 11]\n",
            " [ 3  6  9 12]]\n",
            "\n",
            "Transpose of D using Einsum : \n",
            "\n",
            "[[ 1  4  7 10]\n",
            " [ 2  5  8 11]\n",
            " [ 3  6  9 12]]\n"
          ]
        }
      ]
    },
    {
      "cell_type": "code",
      "source": [
        "E = np.array([[[2,6,5,2],[2,-2,2,3],[1,5,4,0]],[[1,3,1,22],[0,2,2,0],[1,5,4,1]]])\n",
        "F = np.array([[[2,6,5,2,1],[2,-2,2,3,9],[1,5,4,0,7],[1,8,9,2,6]],[[1,3,1,22,7],[0,2,2,0,8],[1,5,4,1,7],[5,8,9,3,5]]])\n",
        "print(E.shape, F.shape)"
      ],
      "metadata": {
        "colab": {
          "base_uri": "https://localhost:8080/"
        },
        "id": "VY6R509uo109",
        "outputId": "2349f15d-a97e-4a83-a814-f808c3362177"
      },
      "execution_count": 21,
      "outputs": [
        {
          "output_type": "stream",
          "name": "stdout",
          "text": [
            "(2, 3, 4) (2, 4, 5)\n"
          ]
        }
      ]
    },
    {
      "cell_type": "code",
      "source": [
        "print(\"Batch multiplication C : \\n\")\n",
        "print(np.matmul(E,F), \"\\n\")\n",
        "\n",
        "print(\"Einsum C : \\n\")\n",
        "print(np.einsum(\"bij,bjk->bik\",E,F))"
      ],
      "metadata": {
        "colab": {
          "base_uri": "https://localhost:8080/"
        },
        "id": "Kzt-4pPrpym9",
        "outputId": "4fc14ed6-f5d1-4918-ee93-8463b1827cc5"
      },
      "execution_count": 22,
      "outputs": [
        {
          "output_type": "stream",
          "name": "stdout",
          "text": [
            "Batch multiplication C : \n",
            "\n",
            "[[[ 23  41  60  26 103]\n",
            "  [  5  50  41   4  16]\n",
            "  [ 16  16  31  17  74]]\n",
            "\n",
            " [[112 190 209  89 148]\n",
            "  [  2  14  12   2  30]\n",
            "  [ 10  41  36  29  80]]] \n",
            "\n",
            "Einsum C : \n",
            "\n",
            "[[[ 23  41  60  26 103]\n",
            "  [  5  50  41   4  16]\n",
            "  [ 16  16  31  17  74]]\n",
            "\n",
            " [[112 190 209  89 148]\n",
            "  [  2  14  12   2  30]\n",
            "  [ 10  41  36  29  80]]]\n"
          ]
        }
      ]
    },
    {
      "cell_type": "code",
      "source": [
        "print(\"Sum : \\n\")\n",
        "print(np.sum(E))\n",
        "\n",
        "print(\"\\nEinsum sum : \\n\")\n",
        "print(np.einsum(\"bij->\",E))"
      ],
      "metadata": {
        "colab": {
          "base_uri": "https://localhost:8080/"
        },
        "id": "didTPEWYq45B",
        "outputId": "5638c8c5-f741-4ac6-9ddf-63e8ae4073b0"
      },
      "execution_count": 24,
      "outputs": [
        {
          "output_type": "stream",
          "name": "stdout",
          "text": [
            "Sum : \n",
            "\n",
            "72\n",
            "\n",
            "Einsum sum : \n",
            "\n",
            "72\n"
          ]
        }
      ]
    },
    {
      "cell_type": "code",
      "source": [
        "A = np.array([[2,6,5,2],\n",
        "             [2,-2,2,3],\n",
        "             [4,5,4,0]])\n",
        "\n",
        "print(\"Axis 0 Sum A = \")\n",
        "print(np.sum(A,axis=0))\n",
        "print(\"\\nAxis 0 Sum using Einsum A = \")\n",
        "print(np.einsum(\"ij->j\",A))"
      ],
      "metadata": {
        "colab": {
          "base_uri": "https://localhost:8080/"
        },
        "id": "nvVCQt1Hrlgu",
        "outputId": "d342cb3c-72ed-49cb-a0e2-d256f0782a45"
      },
      "execution_count": 28,
      "outputs": [
        {
          "output_type": "stream",
          "name": "stdout",
          "text": [
            "Axis 0 Sum A = \n",
            "[ 8  9 11  5]\n",
            "\n",
            "Axis 0 Sum using Einsum A = \n",
            "[ 8  9 11  5]\n"
          ]
        }
      ]
    },
    {
      "cell_type": "code",
      "source": [
        "Q = np.random.randn(32,64,512)\n",
        "K = np.random.randn(32,128,512)"
      ],
      "metadata": {
        "id": "tK9hzL6TszBD"
      },
      "execution_count": 29,
      "outputs": []
    },
    {
      "cell_type": "code",
      "source": [
        "print(np.einsum(\"bij,bmj->bim\", Q,K))"
      ],
      "metadata": {
        "colab": {
          "base_uri": "https://localhost:8080/"
        },
        "id": "U7zEHtwitHX2",
        "outputId": "51ab01f6-6f58-4f82-f0e3-642b5fa24c28"
      },
      "execution_count": 30,
      "outputs": [
        {
          "output_type": "stream",
          "name": "stdout",
          "text": [
            "[[[-19.44973242  10.40765011   8.46137566 ...  -0.47983591 -18.19351303\n",
            "   -27.56632712]\n",
            "  [  2.19330309   2.83500919 -28.54224011 ...  -2.09597055  24.44134675\n",
            "    -7.17944391]\n",
            "  [-17.34736069  17.21520486  27.60762079 ... -26.71083241  17.49745576\n",
            "   -17.53477967]\n",
            "  ...\n",
            "  [-19.86745748  -9.03975351  22.31229299 ... -13.38019921   3.35235899\n",
            "     0.28096703]\n",
            "  [  6.20074176 -46.91973851  36.54490173 ...  31.59604059 -19.79623365\n",
            "    21.21991163]\n",
            "  [ -2.39912405  -4.47675783 -13.3050778  ... -43.53560696 -19.12585538\n",
            "   -24.36450586]]\n",
            "\n",
            " [[ -6.16417645  16.385155    48.47851186 ...   8.71563597  10.40232818\n",
            "     2.09299381]\n",
            "  [  4.02346525  20.49645216 -25.61218362 ...  23.94862573  11.92702052\n",
            "     3.37544875]\n",
            "  [ -0.1121902  -31.75204971  12.03160726 ... -27.02427731  22.49354834\n",
            "   -20.27751374]\n",
            "  ...\n",
            "  [ -8.2221944   57.62413985   7.60625521 ... -11.10830111 -16.58501089\n",
            "    19.58394156]\n",
            "  [  5.20431319 -21.48825795 -30.74713564 ...   6.79685274 -23.24068106\n",
            "   -39.06085285]\n",
            "  [-10.56854989  -0.76380269 -11.6752775  ...  -8.46678086  51.70918416\n",
            "     4.20738371]]\n",
            "\n",
            " [[-27.59037815  -1.61101605  31.86909944 ... -22.72064472 -13.01442288\n",
            "    39.43267685]\n",
            "  [-10.03753366   8.81163469 -56.74576915 ...  35.02770552 -46.78581871\n",
            "    15.92311424]\n",
            "  [-34.98827364   2.50179899  -9.69551338 ...   7.92547949   6.16179137\n",
            "    35.62908047]\n",
            "  ...\n",
            "  [ -2.25664337 -10.95407666  13.47148273 ...  -7.56120237 -26.6327417\n",
            "    15.48092346]\n",
            "  [ -2.00642129  -1.25498758   8.28563903 ... -43.74570305   7.31915299\n",
            "    32.09970964]\n",
            "  [  7.35177093 -30.15479111  26.1158923  ...   1.29423822 -10.10849203\n",
            "     5.42117589]]\n",
            "\n",
            " ...\n",
            "\n",
            " [[ 11.56713362  16.61236138  17.97703802 ...  -1.23650664  -7.43010694\n",
            "   -15.89681476]\n",
            "  [ 21.58669184  15.05194759  23.89629096 ...  31.88744227 -43.06873255\n",
            "   -17.7996066 ]\n",
            "  [  2.98403475  22.50903273  49.71352549 ... -46.79669421  24.51755161\n",
            "    -7.78766546]\n",
            "  ...\n",
            "  [-18.5854037   20.08231735   7.95832598 ...  23.18326639  27.20327046\n",
            "     2.29548443]\n",
            "  [ 26.0599331   -7.86089565   2.95440925 ...  -2.0031436  -59.0007264\n",
            "   -35.00376118]\n",
            "  [ 14.64183105  -7.92741793  -8.37570304 ...   5.45162387  27.72886682\n",
            "    -6.73223779]]\n",
            "\n",
            " [[  1.73299531 -47.65423528  22.98916392 ...  -7.88103861  11.92283429\n",
            "    -1.0135052 ]\n",
            "  [  8.33835395  63.54571728   9.03639009 ... -28.26749981  11.17905146\n",
            "   -20.21741039]\n",
            "  [-16.3783373   16.81544136  25.48865872 ... -20.30818279  -5.49857139\n",
            "   -15.63753903]\n",
            "  ...\n",
            "  [  6.49012012 -14.05641503  29.27583008 ... -16.83897311   5.55975659\n",
            "    15.00126244]\n",
            "  [ -9.69516032  -4.12326839 -22.64341237 ...  22.05761598  19.87318525\n",
            "    29.8899337 ]\n",
            "  [ -7.73954006  17.05448294   0.88245552 ...  16.78321437   4.43711387\n",
            "   -16.42014072]]\n",
            "\n",
            " [[  6.9193766   37.96798691   4.65978953 ...  -0.96033204 -38.10540296\n",
            "    15.21099924]\n",
            "  [ 10.6126564   46.91831546 -28.81253147 ...  10.40742387   4.40112867\n",
            "   -28.29631716]\n",
            "  [-11.9472434   57.70386692 -20.82949106 ... -14.44642599 -21.98448654\n",
            "    -4.37266457]\n",
            "  ...\n",
            "  [ -8.89932694  13.73524953  -3.00699873 ...  -6.49313116 -44.36291004\n",
            "    20.0901056 ]\n",
            "  [ -8.15313206 -26.07609683 -37.90465446 ...  -9.57084879 -15.46097149\n",
            "    -6.76600567]\n",
            "  [ 56.0905272   -1.42781545  17.03580591 ...  -3.52829805   5.06790161\n",
            "   -21.57227915]]]\n"
          ]
        }
      ]
    },
    {
      "cell_type": "code",
      "source": [
        "print(np.einsum(\"bij,bmj->bim\", Q,K).shape)"
      ],
      "metadata": {
        "colab": {
          "base_uri": "https://localhost:8080/"
        },
        "outputId": "ffbce274-ba7f-4286-85a5-67c08c65d502",
        "id": "5zD8hyvZtr79"
      },
      "execution_count": 31,
      "outputs": [
        {
          "output_type": "stream",
          "name": "stdout",
          "text": [
            "(32, 64, 128)\n"
          ]
        }
      ]
    },
    {
      "cell_type": "code",
      "source": [
        "M = np.random.randn(2,4,4,2)\n",
        "N = np.random.randn(2,4,4,1)"
      ],
      "metadata": {
        "id": "Qot0Eba9uc6s"
      },
      "execution_count": 32,
      "outputs": []
    },
    {
      "cell_type": "code",
      "source": [
        "np.einsum(\"bcik,bcij->bckj\", N,M).shape"
      ],
      "metadata": {
        "colab": {
          "base_uri": "https://localhost:8080/"
        },
        "id": "JrQd4pveuuqO",
        "outputId": "e8d01f55-3c4e-4df3-8f12-5e6b051f4da4"
      },
      "execution_count": 33,
      "outputs": [
        {
          "output_type": "execute_result",
          "data": {
            "text/plain": [
              "(2, 4, 1, 2)"
            ]
          },
          "metadata": {},
          "execution_count": 33
        }
      ]
    }
  ]
}