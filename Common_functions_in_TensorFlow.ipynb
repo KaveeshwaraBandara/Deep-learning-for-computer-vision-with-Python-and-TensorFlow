{
  "nbformat": 4,
  "nbformat_minor": 0,
  "metadata": {
    "colab": {
      "provenance": [],
      "authorship_tag": "ABX9TyN84lKobvb5pq4P6/2cQPTp",
      "include_colab_link": true
    },
    "kernelspec": {
      "name": "python3",
      "display_name": "Python 3"
    },
    "language_info": {
      "name": "python"
    }
  },
  "cells": [
    {
      "cell_type": "markdown",
      "metadata": {
        "id": "view-in-github",
        "colab_type": "text"
      },
      "source": [
        "<a href=\"https://colab.research.google.com/github/KaveeshwaraBandara/Deep-learning-for-computer-vision-with-Python-and-TensorFlow/blob/main/Common_functions_in_TensorFlow.ipynb\" target=\"_parent\"><img src=\"https://colab.research.google.com/assets/colab-badge.svg\" alt=\"Open In Colab\"/></a>"
      ]
    },
    {
      "cell_type": "code",
      "execution_count": 1,
      "metadata": {
        "id": "cwJH5MaS9N0m"
      },
      "outputs": [],
      "source": [
        "import tensorflow as tf"
      ]
    },
    {
      "cell_type": "code",
      "source": [
        "tensor_three_d = tf.constant([[[1,2,0],[3,5,-1]],[[10,2,0],[1,0,2]],[[5,8,0],[2,7,0]],[[2,1,9],[4,-3,32]]])\n",
        "print(tensor_three_d.shape)"
      ],
      "metadata": {
        "colab": {
          "base_uri": "https://localhost:8080/"
        },
        "id": "NnKTz5Os9cpL",
        "outputId": "3493e804-f666-45ff-84f5-03f0028c7fe5"
      },
      "execution_count": 2,
      "outputs": [
        {
          "output_type": "stream",
          "name": "stdout",
          "text": [
            "(4, 2, 3)\n"
          ]
        }
      ]
    },
    {
      "cell_type": "code",
      "source": [
        "print(tf.expand_dims(tensor_three_d,axis=0).shape)"
      ],
      "metadata": {
        "colab": {
          "base_uri": "https://localhost:8080/"
        },
        "id": "Nvm0z_2b-FZY",
        "outputId": "b799c74b-607c-45a3-9cdb-d5656425c5c7"
      },
      "execution_count": 3,
      "outputs": [
        {
          "output_type": "stream",
          "name": "stdout",
          "text": [
            "(1, 4, 2, 3)\n"
          ]
        }
      ]
    },
    {
      "cell_type": "code",
      "source": [
        "x = tf.constant([2,3,4,5])\n",
        "print(x.shape)\n",
        "print(tf.expand_dims(x,axis=1))"
      ],
      "metadata": {
        "colab": {
          "base_uri": "https://localhost:8080/"
        },
        "id": "Ww7vIXrH-TOW",
        "outputId": "ec659891-4793-4910-de75-7149f904d349"
      },
      "execution_count": 5,
      "outputs": [
        {
          "output_type": "stream",
          "name": "stdout",
          "text": [
            "(4,)\n",
            "tf.Tensor(\n",
            "[[2]\n",
            " [3]\n",
            " [4]\n",
            " [5]], shape=(4, 1), dtype=int32)\n"
          ]
        }
      ]
    },
    {
      "cell_type": "code",
      "source": [
        "x_expanded = tf.expand_dims(x,axis=0)\n",
        "print(x_expanded,\"\\n\")\n",
        "x_squeezed = tf.squeeze(x_expanded,axis=0)\n",
        "print(x_squeezed)"
      ],
      "metadata": {
        "colab": {
          "base_uri": "https://localhost:8080/"
        },
        "id": "zr4T8Edo_BgZ",
        "outputId": "5d7cf527-68cf-4b52-c8c7-cadfdf07ecda"
      },
      "execution_count": 7,
      "outputs": [
        {
          "output_type": "stream",
          "name": "stdout",
          "text": [
            "tf.Tensor([[2 3 4 5]], shape=(1, 4), dtype=int32) \n",
            "\n",
            "tf.Tensor([2 3 4 5], shape=(4,), dtype=int32)\n"
          ]
        }
      ]
    },
    {
      "cell_type": "code",
      "source": [
        "tensor_three_d = tf.expand_dims(tensor_three_d,axis=3)\n",
        "print(tensor_three_d.shape)\n",
        "print(tf.reshape(tensor_three_d,[4,2,3]).shape)"
      ],
      "metadata": {
        "colab": {
          "base_uri": "https://localhost:8080/"
        },
        "id": "SnRzwlFWAHxg",
        "outputId": "6a6afdfa-81eb-4f3f-df39-beaf7c7328da"
      },
      "execution_count": 12,
      "outputs": [
        {
          "output_type": "stream",
          "name": "stdout",
          "text": [
            "(4, 2, 3, 1, 1, 1)\n",
            "(4, 2, 3)\n"
          ]
        }
      ]
    },
    {
      "cell_type": "code",
      "source": [
        "tf.reshape(tensor_three_d,[24])"
      ],
      "metadata": {
        "colab": {
          "base_uri": "https://localhost:8080/"
        },
        "id": "OeLRCX1UBaMB",
        "outputId": "10392bde-1cdf-443d-f61e-15ca37d14eb4"
      },
      "execution_count": 13,
      "outputs": [
        {
          "output_type": "execute_result",
          "data": {
            "text/plain": [
              "<tf.Tensor: shape=(24,), dtype=int32, numpy=\n",
              "array([ 1,  2,  0,  3,  5, -1, 10,  2,  0,  1,  0,  2,  5,  8,  0,  2,  7,\n",
              "        0,  2,  1,  9,  4, -3, 32], dtype=int32)>"
            ]
          },
          "metadata": {},
          "execution_count": 13
        }
      ]
    },
    {
      "cell_type": "code",
      "source": [
        "tf.reshape(tensor_three_d,[2,4,3])"
      ],
      "metadata": {
        "colab": {
          "base_uri": "https://localhost:8080/"
        },
        "id": "2Lr4wleECA-D",
        "outputId": "9e3d86a4-ec9f-42e3-de8f-fe3e849f84b8"
      },
      "execution_count": 14,
      "outputs": [
        {
          "output_type": "execute_result",
          "data": {
            "text/plain": [
              "<tf.Tensor: shape=(2, 4, 3), dtype=int32, numpy=\n",
              "array([[[ 1,  2,  0],\n",
              "        [ 3,  5, -1],\n",
              "        [10,  2,  0],\n",
              "        [ 1,  0,  2]],\n",
              "\n",
              "       [[ 5,  8,  0],\n",
              "        [ 2,  7,  0],\n",
              "        [ 2,  1,  9],\n",
              "        [ 4, -3, 32]]], dtype=int32)>"
            ]
          },
          "metadata": {},
          "execution_count": 14
        }
      ]
    },
    {
      "cell_type": "code",
      "source": [
        "tf.reshape(tensor_three_d,[-1])"
      ],
      "metadata": {
        "colab": {
          "base_uri": "https://localhost:8080/"
        },
        "id": "mQ-MO7d0CPA6",
        "outputId": "ccee0446-127c-46e7-e9ae-baf2cc0dc422"
      },
      "execution_count": 15,
      "outputs": [
        {
          "output_type": "execute_result",
          "data": {
            "text/plain": [
              "<tf.Tensor: shape=(24,), dtype=int32, numpy=\n",
              "array([ 1,  2,  0,  3,  5, -1, 10,  2,  0,  1,  0,  2,  5,  8,  0,  2,  7,\n",
              "        0,  2,  1,  9,  4, -3, 32], dtype=int32)>"
            ]
          },
          "metadata": {},
          "execution_count": 15
        }
      ]
    },
    {
      "cell_type": "code",
      "source": [
        "tf.reshape(tensor_three_d,[2,4,-1])"
      ],
      "metadata": {
        "colab": {
          "base_uri": "https://localhost:8080/"
        },
        "id": "7fOaUPLqCSvJ",
        "outputId": "c0b36ae0-adb8-435f-c6d6-a5071ab8d0e6"
      },
      "execution_count": 16,
      "outputs": [
        {
          "output_type": "execute_result",
          "data": {
            "text/plain": [
              "<tf.Tensor: shape=(2, 4, 3), dtype=int32, numpy=\n",
              "array([[[ 1,  2,  0],\n",
              "        [ 3,  5, -1],\n",
              "        [10,  2,  0],\n",
              "        [ 1,  0,  2]],\n",
              "\n",
              "       [[ 5,  8,  0],\n",
              "        [ 2,  7,  0],\n",
              "        [ 2,  1,  9],\n",
              "        [ 4, -3, 32]]], dtype=int32)>"
            ]
          },
          "metadata": {},
          "execution_count": 16
        }
      ]
    },
    {
      "cell_type": "code",
      "source": [
        "t1 = [[1, 2, 3], [4, 5, 6]]\n",
        "t2 = [[7, 8, 9], [10, 11, 12]]\n",
        "print(tf.constant(t1).shape,tf.constant(t2).shape)\n",
        "t_row = tf.concat([t1, t2], axis=0)\n",
        "\n",
        "print(t_row.shape)\n",
        "print(t_row)"
      ],
      "metadata": {
        "colab": {
          "base_uri": "https://localhost:8080/"
        },
        "id": "tBTgTP6rGbE8",
        "outputId": "e8c685be-ce11-4b63-c154-07cd70dbdcb7"
      },
      "execution_count": 20,
      "outputs": [
        {
          "output_type": "stream",
          "name": "stdout",
          "text": [
            "(2, 3) (2, 3)\n",
            "(4, 3)\n",
            "tf.Tensor(\n",
            "[[ 1  2  3]\n",
            " [ 4  5  6]\n",
            " [ 7  8  9]\n",
            " [10 11 12]], shape=(4, 3), dtype=int32)\n"
          ]
        }
      ]
    },
    {
      "cell_type": "code",
      "source": [
        "t_column = tf.concat([t1,t2], axis=1)\n",
        "print(t_column)\n",
        "print(t_column.shape)"
      ],
      "metadata": {
        "colab": {
          "base_uri": "https://localhost:8080/"
        },
        "id": "KzOm3uI_HPl_",
        "outputId": "2c12cff2-ffe3-4345-bca7-0d43bf3cbfc2"
      },
      "execution_count": 22,
      "outputs": [
        {
          "output_type": "stream",
          "name": "stdout",
          "text": [
            "tf.Tensor(\n",
            "[[ 1  2  3  7  8  9]\n",
            " [ 4  5  6 10 11 12]], shape=(2, 6), dtype=int32)\n",
            "(2, 6)\n"
          ]
        }
      ]
    }
  ]
}