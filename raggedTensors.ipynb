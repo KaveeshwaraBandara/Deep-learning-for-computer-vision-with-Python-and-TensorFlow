{
  "nbformat": 4,
  "nbformat_minor": 0,
  "metadata": {
    "colab": {
      "provenance": [],
      "authorship_tag": "ABX9TyPa3tncdAvw6QrHnPWVHCJ4",
      "include_colab_link": true
    },
    "kernelspec": {
      "name": "python3",
      "display_name": "Python 3"
    },
    "language_info": {
      "name": "python"
    }
  },
  "cells": [
    {
      "cell_type": "markdown",
      "metadata": {
        "id": "view-in-github",
        "colab_type": "text"
      },
      "source": [
        "<a href=\"https://colab.research.google.com/github/KaveeshwaraBandara/Deep-learning-for-computer-vision-with-Python-and-TensorFlow/blob/main/raggedTensors.ipynb\" target=\"_parent\"><img src=\"https://colab.research.google.com/assets/colab-badge.svg\" alt=\"Open In Colab\"/></a>"
      ]
    },
    {
      "cell_type": "code",
      "execution_count": 1,
      "metadata": {
        "id": "HLMGOrnuqlQj"
      },
      "outputs": [],
      "source": [
        "import tensorflow as tf"
      ]
    },
    {
      "cell_type": "code",
      "source": [
        "tensor_two_d = tf.constant([[1,2,0],[3,5,-1],[1,5,6],[2,3,8]])\n",
        "print(tensor_two_d.shape)"
      ],
      "metadata": {
        "colab": {
          "base_uri": "https://localhost:8080/"
        },
        "id": "We3BfoKdrD4_",
        "outputId": "32f3fd86-bb7a-4888-dfae-ab1f14028880"
      },
      "execution_count": 2,
      "outputs": [
        {
          "output_type": "stream",
          "name": "stdout",
          "text": [
            "(4, 3)\n"
          ]
        }
      ]
    },
    {
      "cell_type": "code",
      "source": [
        "tensor_two_d_rag = [[1,2,0],[3],[1,5,6,5,6],[2,3]]\n",
        "tensor_ragged = tf.ragged.constant(tensor_two_d_rag)\n",
        "print(tensor_ragged)"
      ],
      "metadata": {
        "colab": {
          "base_uri": "https://localhost:8080/"
        },
        "id": "I8dk2AIDrygV",
        "outputId": "9f4936d1-18d3-4f6b-fc39-a974d2b15279"
      },
      "execution_count": 6,
      "outputs": [
        {
          "output_type": "stream",
          "name": "stdout",
          "text": [
            "<tf.RaggedTensor [[1, 2, 0], [3], [1, 5, 6, 5, 6], [2, 3]]>\n"
          ]
        }
      ]
    },
    {
      "cell_type": "code",
      "source": [
        "tf.ragged.boolean_mask(\n",
        "    data=[[1, 2, 3], [4, 5, 6], [7, 8, 9]],\n",
        "    mask=[[True, False, True], [False, False, False], [True, False, False]]).to_list()"
      ],
      "metadata": {
        "colab": {
          "base_uri": "https://localhost:8080/"
        },
        "id": "qOWB4xlQ0aeI",
        "outputId": "7cef9f8f-b016-4c64-abbd-8520c0a1e56c"
      },
      "execution_count": 8,
      "outputs": [
        {
          "output_type": "execute_result",
          "data": {
            "text/plain": [
              "[[1, 3], [], [7]]"
            ]
          },
          "metadata": {},
          "execution_count": 8
        }
      ]
    },
    {
      "cell_type": "code",
      "source": [
        "print(tf.RaggedTensor.from_row_lengths(\n",
        "    values=[3, 1, 4, 1, 5, 9, 2, 6],\n",
        "    row_lengths=[4, 0, 3, 1, 0]))"
      ],
      "metadata": {
        "colab": {
          "base_uri": "https://localhost:8080/"
        },
        "id": "3vcYqWhM1KSe",
        "outputId": "98e0a771-97fe-4b98-9af4-c271444c5b61"
      },
      "execution_count": 9,
      "outputs": [
        {
          "output_type": "stream",
          "name": "stdout",
          "text": [
            "<tf.RaggedTensor [[3, 1, 4, 1], [], [5, 9, 2], [6], []]>\n"
          ]
        }
      ]
    },
    {
      "cell_type": "code",
      "source": [
        "print(tf.RaggedTensor.from_row_splits(\n",
        "    values=[3, 1, 4, 1, 5, 9, 2, 6],\n",
        "    row_splits=[0, 4, 4, 7, 8, 8]))"
      ],
      "metadata": {
        "colab": {
          "base_uri": "https://localhost:8080/"
        },
        "id": "37dKJ93h105V",
        "outputId": "6fa4351b-a5fa-45e5-b4c3-45617a32e9dd"
      },
      "execution_count": 10,
      "outputs": [
        {
          "output_type": "stream",
          "name": "stdout",
          "text": [
            "<tf.RaggedTensor [[3, 1, 4, 1], [], [5, 9, 2], [6], []]>\n"
          ]
        }
      ]
    },
    {
      "cell_type": "code",
      "source": [
        "dt = tf.constant([[5, 7, 0], [0, 3, 0], [6, 0, 0]])\n",
        "tf.RaggedTensor.from_tensor(dt, lengths=[1, 2, 3])"
      ],
      "metadata": {
        "colab": {
          "base_uri": "https://localhost:8080/"
        },
        "id": "SzDWCKqh2ijr",
        "outputId": "3a996bce-e3ef-4fb0-ea90-2106cbd3bb93"
      },
      "execution_count": 12,
      "outputs": [
        {
          "output_type": "execute_result",
          "data": {
            "text/plain": [
              "<tf.RaggedTensor [[5], [0, 3], [6, 0, 0]]>"
            ]
          },
          "metadata": {},
          "execution_count": 12
        }
      ]
    }
  ]
}