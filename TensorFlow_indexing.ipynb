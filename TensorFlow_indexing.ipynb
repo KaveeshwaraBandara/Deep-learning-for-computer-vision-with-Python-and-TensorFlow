{
  "nbformat": 4,
  "nbformat_minor": 0,
  "metadata": {
    "colab": {
      "provenance": [],
      "authorship_tag": "ABX9TyPrtYoy14eR6Zs9Rn1uLjME",
      "include_colab_link": true
    },
    "kernelspec": {
      "name": "python3",
      "display_name": "Python 3"
    },
    "language_info": {
      "name": "python"
    }
  },
  "cells": [
    {
      "cell_type": "markdown",
      "metadata": {
        "id": "view-in-github",
        "colab_type": "text"
      },
      "source": [
        "<a href=\"https://colab.research.google.com/github/KaveeshwaraBandara/Deep-learning-for-computer-vision-with-Python-and-TensorFlow/blob/main/TensorFlow_indexing.ipynb\" target=\"_parent\"><img src=\"https://colab.research.google.com/assets/colab-badge.svg\" alt=\"Open In Colab\"/></a>"
      ]
    },
    {
      "cell_type": "code",
      "execution_count": 1,
      "metadata": {
        "id": "zqGlcG9e8swf"
      },
      "outputs": [],
      "source": [
        "import tensorflow as tf"
      ]
    },
    {
      "cell_type": "code",
      "source": [
        "tensor_indexed = tf.constant([3,6,99,8,88,77,755])\n",
        "print(tensor_indexed)\n",
        "print(tensor_indexed[0:4])\n",
        "print(tensor_indexed[1:6])\n",
        "print(tensor_indexed[3:])\n",
        "print(tensor_indexed[0:5:2])"
      ],
      "metadata": {
        "colab": {
          "base_uri": "https://localhost:8080/"
        },
        "id": "VfCv6jbV-RDd",
        "outputId": "ef19c992-5ca3-4b7d-999e-fb1fde1b6651"
      },
      "execution_count": 6,
      "outputs": [
        {
          "output_type": "stream",
          "name": "stdout",
          "text": [
            "tf.Tensor([  3   6  99   8  88  77 755], shape=(7,), dtype=int32)\n",
            "tf.Tensor([ 3  6 99  8], shape=(4,), dtype=int32)\n",
            "tf.Tensor([ 6 99  8 88 77], shape=(5,), dtype=int32)\n",
            "tf.Tensor([  8  88  77 755], shape=(4,), dtype=int32)\n",
            "tf.Tensor([ 3 99 88], shape=(3,), dtype=int32)\n"
          ]
        }
      ]
    },
    {
      "cell_type": "code",
      "source": [
        "tensor_two_d = tf.constant([\n",
        "    [1,2,3],\n",
        "    [4,5,6],\n",
        "    [7,8,9],\n",
        "    [10,11,12]],\n",
        "  dtype=tf.int32)\n",
        "\"\"\"print(tensor_two_d)\"\"\"\n",
        "print(tensor_two_d[0:3,:])\n",
        "print(tensor_two_d[0:3,0:2])\n",
        "print(tensor_two_d[2,:])\n",
        "print(tensor_two_d[:,0])\n",
        "print(tensor_two_d[...,0])"
      ],
      "metadata": {
        "colab": {
          "base_uri": "https://localhost:8080/"
        },
        "id": "vIfTNZnh_rqF",
        "outputId": "c7f1db52-a66c-49c2-9d98-a6ccfb033091"
      },
      "execution_count": 19,
      "outputs": [
        {
          "output_type": "stream",
          "name": "stdout",
          "text": [
            "tf.Tensor(\n",
            "[[1 2 3]\n",
            " [4 5 6]\n",
            " [7 8 9]], shape=(3, 3), dtype=int32)\n",
            "tf.Tensor(\n",
            "[[1 2]\n",
            " [4 5]\n",
            " [7 8]], shape=(3, 2), dtype=int32)\n",
            "tf.Tensor([7 8 9], shape=(3,), dtype=int32)\n",
            "tf.Tensor([ 1  4  7 10], shape=(4,), dtype=int32)\n",
            "tf.Tensor([ 1  4  7 10], shape=(4,), dtype=int32)\n"
          ]
        }
      ]
    }
  ]
}