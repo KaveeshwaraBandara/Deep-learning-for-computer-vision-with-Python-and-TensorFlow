{
  "nbformat": 4,
  "nbformat_minor": 0,
  "metadata": {
    "colab": {
      "provenance": [],
      "authorship_tag": "ABX9TyO9WhJa9q/WdfG09PfxUwXJ",
      "include_colab_link": true
    },
    "kernelspec": {
      "name": "python3",
      "display_name": "Python 3"
    },
    "language_info": {
      "name": "python"
    }
  },
  "cells": [
    {
      "cell_type": "markdown",
      "metadata": {
        "id": "view-in-github",
        "colab_type": "text"
      },
      "source": [
        "<a href=\"https://colab.research.google.com/github/KaveeshwaraBandara/Deep-learning-for-computer-vision-with-Python-and-TensorFlow/blob/main/TensorFlow_Maths_operations.ipynb\" target=\"_parent\"><img src=\"https://colab.research.google.com/assets/colab-badge.svg\" alt=\"Open In Colab\"/></a>"
      ]
    },
    {
      "cell_type": "code",
      "execution_count": 1,
      "metadata": {
        "id": "wan704RnByYo"
      },
      "outputs": [],
      "source": [
        "import tensorflow as tf"
      ]
    },
    {
      "cell_type": "code",
      "source": [
        "x_abs = tf.constant([-2.25,3.25])\n",
        "tf.abs(x_abs)"
      ],
      "metadata": {
        "colab": {
          "base_uri": "https://localhost:8080/"
        },
        "id": "bBWKsWI9CVkX",
        "outputId": "9d903f3b-c607-46d7-ff2d-9377f818f4fd"
      },
      "execution_count": 2,
      "outputs": [
        {
          "output_type": "execute_result",
          "data": {
            "text/plain": [
              "<tf.Tensor: shape=(2,), dtype=float32, numpy=array([2.25, 3.25], dtype=float32)>"
            ]
          },
          "metadata": {},
          "execution_count": 2
        }
      ]
    },
    {
      "cell_type": "code",
      "source": [
        "# complex number\n",
        "x_complex = tf.constant([[-2.25 + 4.75j], [-3.25 + 5.75j]])\n",
        "tf.abs(x_complex)"
      ],
      "metadata": {
        "colab": {
          "base_uri": "https://localhost:8080/"
        },
        "id": "xX8VOmG-C8x9",
        "outputId": "3d9cbada-a715-438a-a38b-b58784ff4c63"
      },
      "execution_count": 3,
      "outputs": [
        {
          "output_type": "execute_result",
          "data": {
            "text/plain": [
              "<tf.Tensor: shape=(2, 1), dtype=float64, numpy=\n",
              "array([[5.25594901],\n",
              "       [6.60492241]])>"
            ]
          },
          "metadata": {},
          "execution_count": 3
        }
      ]
    },
    {
      "cell_type": "code",
      "source": [
        "tf.sqrt((-2.25)**2 + 4.75**2)"
      ],
      "metadata": {
        "colab": {
          "base_uri": "https://localhost:8080/"
        },
        "id": "kD3Zg90nDUNL",
        "outputId": "d0701d80-76fc-461b-8da5-277d648160e1"
      },
      "execution_count": 5,
      "outputs": [
        {
          "output_type": "execute_result",
          "data": {
            "text/plain": [
              "<tf.Tensor: shape=(), dtype=float32, numpy=5.255949>"
            ]
          },
          "metadata": {},
          "execution_count": 5
        }
      ]
    },
    {
      "cell_type": "code",
      "source": [
        "x_1 = tf.constant([1,2,3,4,5,6],dtype=tf.int32)\n",
        "x_2 = tf.constant([1,2,3,4,5,6],dtype=tf.int32)\n",
        "print(tf.add(x_1,x_2))\n",
        "print(tf.subtract(x_1,x_2))\n",
        "print(tf.multiply(x_1,x_2))\n",
        "print(tf.divide(x_1,x_2))"
      ],
      "metadata": {
        "colab": {
          "base_uri": "https://localhost:8080/"
        },
        "id": "XwZVh9v4Dqbd",
        "outputId": "79c97875-ac5e-42e8-ef28-00b8def8f4ed"
      },
      "execution_count": 8,
      "outputs": [
        {
          "output_type": "stream",
          "name": "stdout",
          "text": [
            "tf.Tensor([ 2  4  6  8 10 12], shape=(6,), dtype=int32)\n",
            "tf.Tensor([0 0 0 0 0 0], shape=(6,), dtype=int32)\n",
            "tf.Tensor([ 1  4  9 16 25 36], shape=(6,), dtype=int32)\n",
            "tf.Tensor([1. 1. 1. 1. 1. 1.], shape=(6,), dtype=float64)\n"
          ]
        }
      ]
    },
    {
      "cell_type": "code",
      "source": [],
      "metadata": {
        "id": "SEFqc8E6EzQf"
      },
      "execution_count": null,
      "outputs": []
    },
    {
      "cell_type": "code",
      "source": [
        "x_3 = tf.constant([1,2,3,4,5,6],dtype=tf.float32)\n",
        "x_4 = tf.constant([1,2,3,0,5,6],dtype=tf.float32)\n",
        "print(tf.math.divide_no_nan(x_3,x_4))"
      ],
      "metadata": {
        "colab": {
          "base_uri": "https://localhost:8080/"
        },
        "outputId": "6a656624-b9fb-4642-ba84-0e144e3787e9",
        "id": "eGIkyeeyE01M"
      },
      "execution_count": 11,
      "outputs": [
        {
          "output_type": "stream",
          "name": "stdout",
          "text": [
            "tf.Tensor([1. 1. 1. 0. 1. 1.], shape=(6,), dtype=float32)\n"
          ]
        }
      ]
    },
    {
      "cell_type": "code",
      "source": [],
      "metadata": {
        "id": "if9-ptfSGRUh"
      },
      "execution_count": null,
      "outputs": []
    },
    {
      "cell_type": "code",
      "source": [
        "x_5 = tf.constant([[5,3,6,6,4,6],],dtype=tf.int32)\n",
        "x_6 = tf.constant([[7],[5],[3]],dtype=tf.int32)\n",
        "print(x_5.shape)\n",
        "print(x_6.shape)\n",
        "print(tf.math.multiply(x_5,x_6))"
      ],
      "metadata": {
        "colab": {
          "base_uri": "https://localhost:8080/"
        },
        "outputId": "2b61e008-ed46-412f-9254-6901eed1156a",
        "id": "TK8t4iYsGS4-"
      },
      "execution_count": 12,
      "outputs": [
        {
          "output_type": "stream",
          "name": "stdout",
          "text": [
            "(1, 6)\n",
            "(3, 1)\n",
            "tf.Tensor(\n",
            "[[35 21 42 42 28 42]\n",
            " [25 15 30 30 20 30]\n",
            " [15  9 18 18 12 18]], shape=(3, 6), dtype=int32)\n"
          ]
        }
      ]
    },
    {
      "cell_type": "code",
      "source": [
        "a = tf.constant([0., 0., 0., 0.])\n",
        "b = tf.constant([-2., 0., 2., 5.])\n",
        "tf.math.maximum(a, b)"
      ],
      "metadata": {
        "colab": {
          "base_uri": "https://localhost:8080/"
        },
        "id": "25VaKya9He9q",
        "outputId": "86356d8c-afce-44c9-e1ea-539b23160bde"
      },
      "execution_count": 13,
      "outputs": [
        {
          "output_type": "execute_result",
          "data": {
            "text/plain": [
              "<tf.Tensor: shape=(4,), dtype=float32, numpy=array([0., 0., 2., 5.], dtype=float32)>"
            ]
          },
          "metadata": {},
          "execution_count": 13
        }
      ]
    },
    {
      "cell_type": "code",
      "source": [
        "a_1 = tf.constant([-5., 0., 0., 0.])\n",
        "b_1 = tf.constant([-3.])\n",
        "tf.math.maximum(a_1, b_1)"
      ],
      "metadata": {
        "colab": {
          "base_uri": "https://localhost:8080/"
        },
        "id": "XUTG9ctDHrLx",
        "outputId": "1db4bfb1-aabc-4bb5-8151-a0c59c26dc2d"
      },
      "execution_count": 14,
      "outputs": [
        {
          "output_type": "execute_result",
          "data": {
            "text/plain": [
              "<tf.Tensor: shape=(4,), dtype=float32, numpy=array([-3.,  0.,  0.,  0.], dtype=float32)>"
            ]
          },
          "metadata": {},
          "execution_count": 14
        }
      ]
    },
    {
      "cell_type": "code",
      "source": [
        "B = tf.constant([ [2, 20, 30, 3, 6],\n",
        "                  [3, 11, 16, 1, 8],\n",
        "                  [14, 45, 23, 5, 27]])\n",
        "tf.math.argmax(B, axis=0)"
      ],
      "metadata": {
        "colab": {
          "base_uri": "https://localhost:8080/"
        },
        "id": "mjcStzYgIA08",
        "outputId": "1ae689b4-1fd0-49fc-ae07-a0bb8e261cc6"
      },
      "execution_count": 21,
      "outputs": [
        {
          "output_type": "execute_result",
          "data": {
            "text/plain": [
              "<tf.Tensor: shape=(5,), dtype=int64, numpy=array([2, 2, 0, 2, 2])>"
            ]
          },
          "metadata": {},
          "execution_count": 21
        }
      ]
    },
    {
      "cell_type": "code",
      "source": [
        "tf.math.argmin(B, axis=1)"
      ],
      "metadata": {
        "colab": {
          "base_uri": "https://localhost:8080/"
        },
        "id": "qkTsDUhybhFs",
        "outputId": "b1853821-916f-4b17-91ec-f8c82c09bb2a"
      },
      "execution_count": 22,
      "outputs": [
        {
          "output_type": "execute_result",
          "data": {
            "text/plain": [
              "<tf.Tensor: shape=(3,), dtype=int64, numpy=array([0, 3, 3])>"
            ]
          },
          "metadata": {},
          "execution_count": 22
        }
      ]
    },
    {
      "cell_type": "code",
      "source": [
        "x = tf.constant([2, 4])\n",
        "y = tf.constant(2)\n",
        "tf.math.equal(x, y)"
      ],
      "metadata": {
        "colab": {
          "base_uri": "https://localhost:8080/"
        },
        "id": "pxFLRrlddPcQ",
        "outputId": "7fd932d3-7c40-4f20-d968-2fd7dcde6aac"
      },
      "execution_count": 23,
      "outputs": [
        {
          "output_type": "execute_result",
          "data": {
            "text/plain": [
              "<tf.Tensor: shape=(2,), dtype=bool, numpy=array([ True, False])>"
            ]
          },
          "metadata": {},
          "execution_count": 23
        }
      ]
    },
    {
      "cell_type": "code",
      "source": [
        "x = tf.constant([[2, 2], [3, 3]])\n",
        "y = tf.constant([[8, 16], [2, 3]])\n",
        "tf.pow(x, y)"
      ],
      "metadata": {
        "colab": {
          "base_uri": "https://localhost:8080/"
        },
        "id": "diyvbi_0dby5",
        "outputId": "20b50939-fe79-47ae-e4ca-312a0f3196b6"
      },
      "execution_count": 24,
      "outputs": [
        {
          "output_type": "execute_result",
          "data": {
            "text/plain": [
              "<tf.Tensor: shape=(2, 2), dtype=int32, numpy=\n",
              "array([[  256, 65536],\n",
              "       [    9,    27]], dtype=int32)>"
            ]
          },
          "metadata": {},
          "execution_count": 24
        }
      ]
    },
    {
      "cell_type": "code",
      "source": [
        "tf.pow(tf.constant(2),tf.constant(5))"
      ],
      "metadata": {
        "colab": {
          "base_uri": "https://localhost:8080/"
        },
        "id": "CG5Tw_V0dlHE",
        "outputId": "beb8c3c7-48ff-4cff-cc79-9d523ce2ed19"
      },
      "execution_count": 26,
      "outputs": [
        {
          "output_type": "execute_result",
          "data": {
            "text/plain": [
              "<tf.Tensor: shape=(), dtype=int32, numpy=32>"
            ]
          },
          "metadata": {},
          "execution_count": 26
        }
      ]
    },
    {
      "cell_type": "code",
      "source": [
        "tensor_two_d = tf.constant([\n",
        "    [1,2,3],\n",
        "    [4,5,6],\n",
        "    [7,8,9],\n",
        "    [10,11,12]],\n",
        "  dtype=tf.float32)"
      ],
      "metadata": {
        "id": "LIs3v8BZeI_N"
      },
      "execution_count": 27,
      "outputs": []
    },
    {
      "cell_type": "code",
      "source": [
        "print(tf.math.reduce_sum(\n",
        "    tensor_two_d, axis=1, keepdims=False, name=None\n",
        "))"
      ],
      "metadata": {
        "colab": {
          "base_uri": "https://localhost:8080/"
        },
        "id": "XIS52aQWeItI",
        "outputId": "77d5cec4-05a9-47b5-ce95-c8784df06150"
      },
      "execution_count": 32,
      "outputs": [
        {
          "output_type": "stream",
          "name": "stdout",
          "text": [
            "tf.Tensor([ 6. 15. 24. 33.], shape=(4,), dtype=float32)\n"
          ]
        }
      ]
    },
    {
      "cell_type": "code",
      "source": [
        "print(tf.math.reduce_max(\n",
        "    tensor_two_d, axis=0, keepdims=False, name=None\n",
        "))"
      ],
      "metadata": {
        "colab": {
          "base_uri": "https://localhost:8080/"
        },
        "id": "e_flAA0ResE6",
        "outputId": "8800ab32-e112-4ea1-a81f-94320031baab"
      },
      "execution_count": 33,
      "outputs": [
        {
          "output_type": "stream",
          "name": "stdout",
          "text": [
            "tf.Tensor([10. 11. 12.], shape=(3,), dtype=float32)\n"
          ]
        }
      ]
    },
    {
      "cell_type": "code",
      "source": [
        "tf.math.top_k(tensor_two_d,k=1)"
      ],
      "metadata": {
        "colab": {
          "base_uri": "https://localhost:8080/"
        },
        "id": "ybf_0kr5f0Ze",
        "outputId": "79f9d5c2-6aa9-47a8-bcb2-1c6ce8b578e6"
      },
      "execution_count": 38,
      "outputs": [
        {
          "output_type": "execute_result",
          "data": {
            "text/plain": [
              "TopKV2(values=<tf.Tensor: shape=(4, 1), dtype=float32, numpy=\n",
              "array([[ 3.],\n",
              "       [ 6.],\n",
              "       [ 9.],\n",
              "       [12.]], dtype=float32)>, indices=<tf.Tensor: shape=(4, 1), dtype=int32, numpy=\n",
              "array([[2],\n",
              "       [2],\n",
              "       [2],\n",
              "       [2]], dtype=int32)>)"
            ]
          },
          "metadata": {},
          "execution_count": 38
        }
      ]
    }
  ]
}