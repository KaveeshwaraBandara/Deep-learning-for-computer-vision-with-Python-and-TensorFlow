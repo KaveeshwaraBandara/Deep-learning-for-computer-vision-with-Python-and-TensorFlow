{
  "nbformat": 4,
  "nbformat_minor": 0,
  "metadata": {
    "colab": {
      "provenance": [],
      "authorship_tag": "ABX9TyPgyAQMTh4AgBKKKmGY1F5F",
      "include_colab_link": true
    },
    "kernelspec": {
      "name": "python3",
      "display_name": "Python 3"
    },
    "language_info": {
      "name": "python"
    }
  },
  "cells": [
    {
      "cell_type": "markdown",
      "metadata": {
        "id": "view-in-github",
        "colab_type": "text"
      },
      "source": [
        "<a href=\"https://colab.research.google.com/github/KaveeshwaraBandara/Deep-learning-for-computer-vision-with-Python-and-TensorFlow/blob/main/LinearAlgebraOperations.ipynb\" target=\"_parent\"><img src=\"https://colab.research.google.com/assets/colab-badge.svg\" alt=\"Open In Colab\"/></a>"
      ]
    },
    {
      "cell_type": "code",
      "execution_count": 2,
      "metadata": {
        "id": "1EVt6a80yLNg"
      },
      "outputs": [],
      "source": [
        "import tensorflow as tf"
      ]
    },
    {
      "cell_type": "code",
      "source": [
        "x_1 = tf.constant([[1,2,0],[3,5,-1]])\n",
        "x_2 = tf.constant([[1,2,0],[3,5,-1],[4,5,6]])\n",
        "tf.linalg.matmul(x_1,x_2,transpose_a=False,transpose_b=False,adjoint_a=False,adjoint_b=False,a_is_sparse=False,b_is_sparse=False,output_type=None,grad_a=False,grad_b=False,name=None)"
      ],
      "metadata": {
        "colab": {
          "base_uri": "https://localhost:8080/"
        },
        "id": "KQxAO6MMylYi",
        "outputId": "e052365b-ccfe-4d52-b512-57ddacb1754b"
      },
      "execution_count": 3,
      "outputs": [
        {
          "output_type": "execute_result",
          "data": {
            "text/plain": [
              "<tf.Tensor: shape=(2, 3), dtype=int32, numpy=\n",
              "array([[  7,  12,  -2],\n",
              "       [ 14,  26, -11]], dtype=int32)>"
            ]
          },
          "metadata": {},
          "execution_count": 3
        }
      ]
    },
    {
      "cell_type": "code",
      "source": [
        "print(x_1@x_2)"
      ],
      "metadata": {
        "colab": {
          "base_uri": "https://localhost:8080/"
        },
        "id": "UHuf_Wv208ok",
        "outputId": "caf10737-63e3-49ff-8aa6-0b07d57e698a"
      },
      "execution_count": 4,
      "outputs": [
        {
          "output_type": "stream",
          "name": "stdout",
          "text": [
            "tf.Tensor(\n",
            "[[  7  12  -2]\n",
            " [ 14  26 -11]], shape=(2, 3), dtype=int32)\n"
          ]
        }
      ]
    },
    {
      "cell_type": "code",
      "source": [
        "tf.transpose(x_1)"
      ],
      "metadata": {
        "colab": {
          "base_uri": "https://localhost:8080/"
        },
        "id": "IZhhrxoj1qO4",
        "outputId": "497133ea-30e6-4327-88b8-fc2f4b295f68"
      },
      "execution_count": 5,
      "outputs": [
        {
          "output_type": "execute_result",
          "data": {
            "text/plain": [
              "<tf.Tensor: shape=(3, 2), dtype=int32, numpy=\n",
              "array([[ 1,  3],\n",
              "       [ 2,  5],\n",
              "       [ 0, -1]], dtype=int32)>"
            ]
          },
          "metadata": {},
          "execution_count": 5
        }
      ]
    },
    {
      "cell_type": "code",
      "source": [
        "a = tf.constant([[[1,0],[3,-1],],[[10,0],[1,2]],[[5,0],[2,0]]])\n",
        "b = tf.constant([[[5,1,4],[34,15,1],],[[1,2,2],[5,3,2]],[[2,2,3],[1,1,1]]])\n",
        "print(a)\n",
        "print(b)"
      ],
      "metadata": {
        "colab": {
          "base_uri": "https://localhost:8080/"
        },
        "id": "4JYAL-Tl3XZr",
        "outputId": "e6eca9f3-9010-4051-bf62-d6f9cf60eef0"
      },
      "execution_count": 8,
      "outputs": [
        {
          "output_type": "stream",
          "name": "stdout",
          "text": [
            "tf.Tensor(\n",
            "[[[ 1  0]\n",
            "  [ 3 -1]]\n",
            "\n",
            " [[10  0]\n",
            "  [ 1  2]]\n",
            "\n",
            " [[ 5  0]\n",
            "  [ 2  0]]], shape=(3, 2, 2), dtype=int32)\n",
            "tf.Tensor(\n",
            "[[[ 5  1  4]\n",
            "  [34 15  1]]\n",
            "\n",
            " [[ 1  2  2]\n",
            "  [ 5  3  2]]\n",
            "\n",
            " [[ 2  2  3]\n",
            "  [ 1  1  1]]], shape=(3, 2, 3), dtype=int32)\n"
          ]
        }
      ]
    },
    {
      "cell_type": "code",
      "source": [
        "print(tf.linalg.matmul(a,b))"
      ],
      "metadata": {
        "colab": {
          "base_uri": "https://localhost:8080/"
        },
        "id": "tgPE13in4LYp",
        "outputId": "eb41570a-2a4c-4505-ed45-9b9d76f04017"
      },
      "execution_count": 9,
      "outputs": [
        {
          "output_type": "stream",
          "name": "stdout",
          "text": [
            "tf.Tensor(\n",
            "[[[  5   1   4]\n",
            "  [-19 -12  11]]\n",
            "\n",
            " [[ 10  20  20]\n",
            "  [ 11   8   6]]\n",
            "\n",
            " [[ 10  10  15]\n",
            "  [  4   4   6]]], shape=(3, 2, 3), dtype=int32)\n"
          ]
        }
      ]
    }
  ]
}